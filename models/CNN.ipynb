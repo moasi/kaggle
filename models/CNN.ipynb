{
 "cells": [
  {
   "cell_type": "markdown",
   "id": "f4a32d57",
   "metadata": {},
   "source": [
    "# 2. Aplicar models"
   ]
  },
  {
   "cell_type": "markdown",
   "id": "7b66d16b",
   "metadata": {},
   "source": [
    "### CNN"
   ]
  },
  {
   "cell_type": "code",
   "execution_count": 1,
   "id": "c4ac47a0",
   "metadata": {},
   "outputs": [],
   "source": [
    "import sys\n",
    "\n",
    "from src import funcionshow\n",
    "from src import librerias\n",
    "import numpy as np\n",
    "import time\n",
    "import seaborn as sns\n",
    "import cv2\n",
    "import tensorflow as tf\n",
    "from tensorflow import keras\n",
    "from keras.preprocessing.image import ImageDataGenerator\n",
    "from keras.datasets import cifar10\n",
    "from keras.models import Sequential\n",
    "from keras.layers import Dense, Flatten, Conv2D, MaxPooling2D\n",
    "from keras.losses import sparse_categorical_crossentropy\n",
    "from keras.optimizers import Adam\n",
    "from sklearn.model_selection import KFold\n",
    "from keras.utils import to_categorical"
   ]
  },
  {
   "cell_type": "code",
   "execution_count": 48,
   "id": "9d490f97",
   "metadata": {},
   "outputs": [],
   "source": [
    "labels,imlabels,imnames,numim,numlab=librerias.crear_labels('../data/dataset/train/')\n",
    "# Define the model architecture , (64, 240, 240, 3)shape dataset\n",
    "\n",
    "model = tf.keras.Sequential()\n",
    "model.add(tf.keras.layers.Conv2D(32, kernel_size=(3,3), activation='relu', input_shape = (224,224,3)))\n",
    "model.add(tf.keras.layers.MaxPool2D((2,2)))\n",
    "model.add(tf.keras.layers.Dropout(0.2))\n",
    "model.add(tf.keras.layers.Conv2D(64, kernel_size=(3,3), activation='relu'))\n",
    "model.add(tf.keras.layers.MaxPool2D((2,2)))\n",
    "model.add(tf.keras.layers.Dropout(0.2))\n",
    "model.add(tf.keras.layers.Conv2D(128, kernel_size=(3,3), activation='relu'))\n",
    "model.add(tf.keras.layers.MaxPool2D((2,2)))\n",
    "model.add(tf.keras.layers.Dropout(0.2))\n",
    "model.add(tf.keras.layers.Flatten())\n",
    "model.add(tf.keras.layers.Dense(128, activation='relu'))\n",
    "model.add(tf.keras.layers.Dense(64, activation='relu'))\n",
    "model.add(tf.keras.layers.Dense(6, activation='softmax'))"
   ]
  },
  {
   "cell_type": "code",
   "execution_count": 49,
   "id": "0cfd354f",
   "metadata": {},
   "outputs": [],
   "source": [
    "#Creating Batch size and Image shape\n",
    "BATCH_SIZE=32\n",
    "IMG_SHAPE=(224,224)\n",
    "## Data Augmentation\n",
    "train_datagen=ImageDataGenerator(rescale=1./255, validation_split = 0.1)\n",
    "test_datagen = ImageDataGenerator(rescale=1./255) "
   ]
  },
  {
   "cell_type": "code",
   "execution_count": 57,
   "id": "eb4c9dff",
   "metadata": {},
   "outputs": [
    {
     "name": "stdout",
     "output_type": "stream",
     "text": [
      "Found 2430 images belonging to 6 classes.\n",
      "Found 268 images belonging to 6 classes.\n",
      "Found 10901 images belonging to 6 classes.\n"
     ]
    }
   ],
   "source": [
    "#Defining Train, Test and Validation data\n",
    "train_dataset = train_datagen.flow_from_directory(batch_size=32,directory='../data/dataset/test',shuffle=True,classes=labels,target_size=IMG_SHAPE, subset=\"training\",class_mode='categorical')\n",
    "\n",
    "val_dataset = train_datagen.flow_from_directory(batch_size=32,directory='../data/dataset/test',shuffle=True,classes=labels,target_size=IMG_SHAPE, subset=\"validation\",class_mode='categorical')\n",
    "\n",
    "test_generator = test_datagen.flow_from_directory('../data/dataset/train', batch_size=32, target_size=SIZE, shuffle = False, classes=labels, class_mode='categorical')"
   ]
  },
  {
   "cell_type": "code",
   "execution_count": 55,
   "id": "f0256682",
   "metadata": {},
   "outputs": [
    {
     "name": "stdout",
     "output_type": "stream",
     "text": [
      "Epoch 1/10\n",
      "76/76 [==============================] - 80s 1s/step - loss: 0.1747 - accuracy: 0.8588 - val_loss: 0.1467 - val_accuracy: 0.8284\n",
      "Epoch 2/10\n",
      "76/76 [==============================] - 78s 1s/step - loss: 0.0653 - accuracy: 0.9387 - val_loss: 0.1300 - val_accuracy: 0.8694\n",
      "Epoch 3/10\n",
      "76/76 [==============================] - 79s 1s/step - loss: 0.0490 - accuracy: 0.9531 - val_loss: 0.0853 - val_accuracy: 0.9216\n",
      "Epoch 4/10\n",
      "76/76 [==============================] - 78s 1s/step - loss: 0.0401 - accuracy: 0.9650 - val_loss: 0.0870 - val_accuracy: 0.9254\n",
      "Epoch 5/10\n",
      "76/76 [==============================] - 77s 1s/step - loss: 0.0256 - accuracy: 0.9782 - val_loss: 0.0979 - val_accuracy: 0.8955\n",
      "Epoch 6/10\n",
      "76/76 [==============================] - 77s 1s/step - loss: 0.0289 - accuracy: 0.9716 - val_loss: 0.0777 - val_accuracy: 0.9254\n",
      "Epoch 7/10\n",
      "76/76 [==============================] - 78s 1s/step - loss: 0.0143 - accuracy: 0.9872 - val_loss: 0.0748 - val_accuracy: 0.9291\n",
      "Epoch 8/10\n",
      "76/76 [==============================] - 78s 1s/step - loss: 0.0105 - accuracy: 0.9947 - val_loss: 0.0919 - val_accuracy: 0.9142\n",
      "Epoch 9/10\n",
      "76/76 [==============================] - 82s 1s/step - loss: 0.0125 - accuracy: 0.9914 - val_loss: 0.0807 - val_accuracy: 0.9254\n",
      "Epoch 10/10\n",
      "76/76 [==============================] - 80s 1s/step - loss: 0.0274 - accuracy: 0.9761 - val_loss: 0.0709 - val_accuracy: 0.9366\n"
     ]
    }
   ],
   "source": [
    "model.compile(optimizer='adam', loss = 'binary_crossentropy', metrics=\"accuracy\")\n",
    "history = model.fit(train_dataset, epochs=10, validation_data=val_dataset)"
   ]
  },
  {
   "cell_type": "code",
   "execution_count": 58,
   "id": "e307d7fa",
   "metadata": {},
   "outputs": [
    {
     "name": "stdout",
     "output_type": "stream",
     "text": [
      "341/341 [==============================] - 204s 596ms/step - loss: 0.2889 - accuracy: 0.7744\n",
      "accuracy test:  0.7744243741035461\n",
      "loss test:  0.2888859212398529\n"
     ]
    }
   ],
   "source": [
    "loss, acc = model.evaluate(test_data)\n",
    "print('accuracy test: ',acc)\n",
    "print('loss test: ',loss)"
   ]
  },
  {
   "cell_type": "code",
   "execution_count": null,
   "id": "5cb7abd1",
   "metadata": {},
   "outputs": [],
   "source": []
  }
 ],
 "metadata": {
  "kernelspec": {
   "display_name": "Python 3 (ipykernel)",
   "language": "python",
   "name": "python3"
  },
  "language_info": {
   "codemirror_mode": {
    "name": "ipython",
    "version": 3
   },
   "file_extension": ".py",
   "mimetype": "text/x-python",
   "name": "python",
   "nbconvert_exporter": "python",
   "pygments_lexer": "ipython3",
   "version": "3.9.13"
  }
 },
 "nbformat": 4,
 "nbformat_minor": 5
}
