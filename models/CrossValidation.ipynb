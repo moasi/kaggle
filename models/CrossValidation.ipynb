{
 "cells": [
  {
   "cell_type": "markdown",
   "id": "632c0806",
   "metadata": {},
   "source": [
    "# 2. Aplicar models"
   ]
  },
  {
   "cell_type": "markdown",
   "id": "80c04bea",
   "metadata": {},
   "source": [
    "### Cross Validation"
   ]
  },
  {
   "cell_type": "code",
   "execution_count": 9,
   "id": "30647414",
   "metadata": {},
   "outputs": [],
   "source": [
    "import sys\n",
    "sys.path.insert(0,'C:\\\\Users\\\\moasi\\\\Downloads\\\\kaggle')\n",
    "\n",
    "from src import funcionshow\n",
    "from src import librerias\n",
    "import numpy as np\n",
    "import time\n",
    "import seaborn as sns\n",
    "from sklearn.model_selection import cross_val_score\n",
    "import cv2\n",
    "import tensorflow as tf\n",
    "from tensorflow import keras\n",
    "from keras.preprocessing.image import ImageDataGenerator\n",
    "from keras.datasets import cifar10\n",
    "from keras.models import Sequential\n",
    "from keras.layers import Dense, Flatten, Conv2D, MaxPooling2D, MaxPool2D, Dropout\n",
    "from keras.losses import sparse_categorical_crossentropy\n",
    "from keras.optimizers import Adam\n",
    "from sklearn.model_selection import KFold\n",
    "from keras.utils import to_categorical"
   ]
  },
  {
   "cell_type": "code",
   "execution_count": 4,
   "id": "ecf0851a",
   "metadata": {},
   "outputs": [],
   "source": [
    "labels,imlabels,imnames,numim,numlab=librerias.crear_labels('../data/dataset/train/')\n",
    "# Define the model architecture , (64, 240, 240, 3)shape dataset\n",
    "\n",
    "model = tf.keras.Sequential()\n",
    "model.add(Conv2D(32, kernel_size=(3,3), activation='relu', input_shape = (224,224,3)))\n",
    "model.add(MaxPool2D((2,2)))\n",
    "model.add(Dropout(0.2))\n",
    "model.add(Conv2D(64, kernel_size=(3,3), activation='relu'))\n",
    "model.add(MaxPool2D((2,2)))\n",
    "model.add(Dropout(0.2))\n",
    "model.add(Conv2D(128, kernel_size=(3,3), activation='relu'))\n",
    "model.add(MaxPool2D((2,2)))\n",
    "model.add(Dropout(0.2))\n",
    "model.add(Flatten())\n",
    "model.add(Dense(128, activation='relu'))\n",
    "model.add(Dense(64, activation='relu'))\n",
    "model.add(Dense(6, activation='softmax'))"
   ]
  },
  {
   "cell_type": "markdown",
   "id": "9f849884",
   "metadata": {},
   "source": [
    "per poder aplicar un K-Fold Crossvalidation vaig pensar en dividir el train i realitzar un .flow_from_directory() a cada iteracio a partir del train incial que ja te el ImageDataGenerator aplicat."
   ]
  },
  {
   "cell_type": "code",
   "execution_count": 14,
   "id": "d7f3a042",
   "metadata": {},
   "outputs": [
    {
     "name": "stdout",
     "output_type": "stream",
     "text": [
      "Found 10901 images belonging to 6 classes.\n"
     ]
    }
   ],
   "source": [
    "# Create an instance of the ImageDataGenerator class\n",
    "data = ImageDataGenerator(rescale=1./255)\n",
    "\n",
    "# Generate batches of data for training and testing\n",
    "train_data = data.flow_from_directory(directory='../data/dataset/train',target_size=(224, 224),batch_size=32,class_mode='categorical')"
   ]
  },
  {
   "cell_type": "code",
   "execution_count": 7,
   "id": "2542d94f",
   "metadata": {},
   "outputs": [],
   "source": [
    "# Define the K-fold Cross Validator\n",
    "k_folds = 6\n",
    "kfold = KFold(n_splits=k_folds, shuffle=True)\n",
    "\n",
    "# K-fold Cross Validation model evaluation\n",
    "fold_no = 1"
   ]
  },
  {
   "cell_type": "code",
   "execution_count": 12,
   "id": "97c91a8c",
   "metadata": {},
   "outputs": [
    {
     "ename": "TypeError",
     "evalue": "only integer scalar arrays can be converted to a scalar index",
     "output_type": "error",
     "traceback": [
      "\u001b[1;31m---------------------------------------------------------------------------\u001b[0m",
      "\u001b[1;31mTypeError\u001b[0m                                 Traceback (most recent call last)",
      "\u001b[1;32m~\\AppData\\Local\\Temp\\ipykernel_12612\\1664611861.py\u001b[0m in \u001b[0;36m<module>\u001b[1;34m\u001b[0m\n\u001b[0;32m      5\u001b[0m \u001b[1;33m\u001b[0m\u001b[0m\n\u001b[0;32m      6\u001b[0m \u001b[1;33m\u001b[0m\u001b[0m\n\u001b[1;32m----> 7\u001b[1;33m     \u001b[0mX_train\u001b[0m\u001b[1;33m,\u001b[0m \u001b[0mX_val\u001b[0m \u001b[1;33m=\u001b[0m \u001b[0mtrain_data\u001b[0m\u001b[1;33m[\u001b[0m\u001b[1;36m0\u001b[0m\u001b[1;33m]\u001b[0m\u001b[1;33m[\u001b[0m\u001b[0mtrain_index\u001b[0m\u001b[1;33m]\u001b[0m\u001b[1;33m,\u001b[0m \u001b[0mtrain_data\u001b[0m\u001b[1;33m[\u001b[0m\u001b[1;36m0\u001b[0m\u001b[1;33m]\u001b[0m\u001b[1;33m[\u001b[0m\u001b[0mval_index\u001b[0m\u001b[1;33m]\u001b[0m\u001b[1;33m\u001b[0m\u001b[1;33m\u001b[0m\u001b[0m\n\u001b[0m\u001b[0;32m      8\u001b[0m     \u001b[0my_train\u001b[0m\u001b[1;33m,\u001b[0m \u001b[0my_val\u001b[0m \u001b[1;33m=\u001b[0m \u001b[0mtrain_data\u001b[0m\u001b[1;33m[\u001b[0m\u001b[1;36m0\u001b[0m\u001b[1;33m]\u001b[0m\u001b[1;33m[\u001b[0m\u001b[0mtrain_index\u001b[0m\u001b[1;33m]\u001b[0m\u001b[1;33m,\u001b[0m \u001b[0mtrain_data\u001b[0m\u001b[1;33m[\u001b[0m\u001b[1;36m0\u001b[0m\u001b[1;33m]\u001b[0m\u001b[1;33m[\u001b[0m\u001b[0mval_index\u001b[0m\u001b[1;33m]\u001b[0m\u001b[1;33m\u001b[0m\u001b[1;33m\u001b[0m\u001b[0m\n\u001b[0;32m      9\u001b[0m     \u001b[0mprint\u001b[0m\u001b[1;33m(\u001b[0m\u001b[1;34m\"=========================================\"\u001b[0m\u001b[1;33m)\u001b[0m\u001b[1;33m\u001b[0m\u001b[1;33m\u001b[0m\u001b[0m\n",
      "\u001b[1;31mTypeError\u001b[0m: only integer scalar arrays can be converted to a scalar index"
     ]
    }
   ],
   "source": [
    "train=ImageDataGenerator(rescale=1./255, validation_split = 0.1)\n",
    "acc = []\n",
    "i =0\n",
    "for train_index, val_index in kfold.split(train_data[0][0]):\n",
    "    \n",
    "    \n",
    "    X_train, X_val = train_data[0][train_index], train_data[0][val_index]\n",
    "    y_train, y_val = train_data[0][train_index], train_data[0][val_index]\n",
    "    print(\"=========================================\")\n",
    "    print(\"====== K Fold Validation step => %d/%d =======\" % (fold_no,k_folds))\n",
    "    print(\"=========================================\")\n",
    "    \n",
    "    \n",
    "    model.fit(X_train, y_fit)\n",
    "    \n",
    "    fold_no = fold_no + 1\n",
    "    \n",
    "print(\"Average accuracy:\", sum(accuracies) / len(accuracies))"
   ]
  },
  {
   "cell_type": "markdown",
   "id": "81e75363",
   "metadata": {},
   "source": [
    "no aconsegueixo poder executar-ho per tant probare altre manera de poder realitzar crossValidation"
   ]
  },
  {
   "cell_type": "code",
   "execution_count": null,
   "id": "0a782e4c",
   "metadata": {},
   "outputs": [],
   "source": [
    "scores = cross_val_score(model, train_dataset[0], train_dataset[1],)"
   ]
  }
 ],
 "metadata": {
  "kernelspec": {
   "display_name": "Python 3 (ipykernel)",
   "language": "python",
   "name": "python3"
  },
  "language_info": {
   "codemirror_mode": {
    "name": "ipython",
    "version": 3
   },
   "file_extension": ".py",
   "mimetype": "text/x-python",
   "name": "python",
   "nbconvert_exporter": "python",
   "pygments_lexer": "ipython3",
   "version": "3.9.13"
  }
 },
 "nbformat": 4,
 "nbformat_minor": 5
}
