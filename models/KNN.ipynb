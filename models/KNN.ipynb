{
 "cells": [
  {
   "cell_type": "markdown",
   "id": "eeafff9b",
   "metadata": {},
   "source": [
    "# 2. Aplicar models"
   ]
  },
  {
   "cell_type": "markdown",
   "id": "fb124af1",
   "metadata": {},
   "source": [
    "### KNN "
   ]
  },
  {
   "cell_type": "code",
   "execution_count": 39,
   "id": "080b226b",
   "metadata": {},
   "outputs": [],
   "source": [
    "import sys\n",
    "sys.path.insert(0,'C:\\\\Users\\\\moasi\\\\Downloads\\\\kaggle')\n",
    "from sklearn.neighbors import KNeighborsClassifier\n",
    "from src import funcionshow\n",
    "from src import librerias\n",
    "import warnings\n",
    "warnings.filterwarnings('ignore')\n",
    "from sklearn.preprocessing import StandardScaler\n",
    "import matplotlib.pyplot as plt\n",
    "import numpy as np\n",
    "import time\n",
    "import seaborn as sns\n",
    "import cv2\n",
    "import tensorflow as tf\n",
    "from tensorflow import keras\n",
    "from sklearn.metrics import ConfusionMatrixDisplay,confusion_matrix, accuracy_score\n",
    "from keras.preprocessing.image import ImageDataGenerator\n",
    "from keras.datasets import cifar10\n",
    "from keras.models import Sequential\n",
    "from keras.layers import Dense, Flatten, Conv2D, MaxPooling2D,MaxPool2D, Dropout\n",
    "from keras.losses import sparse_categorical_crossentropy\n",
    "from keras.optimizers import Adam\n",
    "from sklearn.model_selection import KFold\n",
    "from keras.utils import to_categorical"
   ]
  },
  {
   "cell_type": "markdown",
   "id": "08e205a5",
   "metadata": {},
   "source": [
    "A diferencia del altres dos models no ens fa falta definir un model sequencial per tal de aplicar-ho"
   ]
  },
  {
   "cell_type": "code",
   "execution_count": 3,
   "id": "ce18a98b",
   "metadata": {},
   "outputs": [],
   "source": [
    "#Creating Batch size and Image shape\n",
    "BATCH_SIZE=32\n",
    "IMG_SHAPE=(224,224)\n",
    "## Data Augmentation\n",
    "train_datagen=ImageDataGenerator(rescale=1./255)\n",
    "test_datagen = ImageDataGenerator(rescale=1./255) "
   ]
  },
  {
   "cell_type": "code",
   "execution_count": 32,
   "id": "a97a42e9",
   "metadata": {},
   "outputs": [
    {
     "name": "stdout",
     "output_type": "stream",
     "text": [
      "Found 2698 images belonging to 6 classes.\n",
      "Found 10901 images belonging to 6 classes.\n"
     ]
    }
   ],
   "source": [
    "#Defining Train, Test and Validation data\n",
    "train_dataset = train_datagen.flow_from_directory(batch_size=32,directory='../data/dataset/test',shuffle=True,classes=labels,target_size=IMG_SHAPE,class_mode='categorical')\n",
    "\n",
    "test_data = test_datagen.flow_from_directory('../data/dataset/train', batch_size=32, target_size=IMG_SHAPE, shuffle = False, classes=labels, class_mode='categorical')"
   ]
  },
  {
   "cell_type": "markdown",
   "id": "0c8983b9",
   "metadata": {},
   "source": [
    "Es crea una instancia de KNN"
   ]
  },
  {
   "cell_type": "code",
   "execution_count": 33,
   "id": "b24e3831",
   "metadata": {},
   "outputs": [],
   "source": [
    "knn = KNeighborsClassifier(n_neighbors=5)"
   ]
  },
  {
   "cell_type": "markdown",
   "id": "66ea4498",
   "metadata": {},
   "source": [
    "fem un reshape a les nostres dades per tal de poder aplicar KNN ya que la funcio espera un input 2D y li estaba passant un dataset 4D, flow_from_directory() ens retorna una tupla (x,y) per lo que hem d'accedir a cadascuna de les parts per separat per poder fer reshape"
   ]
  },
  {
   "cell_type": "code",
   "execution_count": 34,
   "id": "c3cecdca",
   "metadata": {},
   "outputs": [],
   "source": [
    "X_train = train_dataset[0][0]\n",
    "X_train = X_train.reshape(X_train.shape[0], -1)\n",
    "y_train = train_dataset[0][1]\n",
    "\n",
    "X_test = test_data[0][0]\n",
    "X_test = X_test.reshape(X_test.shape[0], -1)\n",
    "y_test = test_data[0][1]"
   ]
  },
  {
   "cell_type": "markdown",
   "id": "3040a863",
   "metadata": {},
   "source": [
    "Ara que hem fet un reshape de les noestres dades fem l'implementacio la funció .fit() de KNN al dataset de train "
   ]
  },
  {
   "cell_type": "code",
   "execution_count": 35,
   "id": "1166f053",
   "metadata": {},
   "outputs": [
    {
     "data": {
      "text/plain": [
       "KNeighborsClassifier()"
      ]
     },
     "execution_count": 35,
     "metadata": {},
     "output_type": "execute_result"
    }
   ],
   "source": [
    "knn.fit(X_train, y_train) #necesitem un reshape de les nostres dades per tal de poder aplicar-ho"
   ]
  },
  {
   "cell_type": "code",
   "execution_count": 36,
   "id": "c62bfa27",
   "metadata": {},
   "outputs": [],
   "source": [
    "predictions = knn.predict(X_test)"
   ]
  },
  {
   "cell_type": "markdown",
   "id": "6755113f",
   "metadata": {},
   "source": [
    "Un cop fet aixo hem de calcular el accuracy que ens ha donat i la corresponden matriu de confusio"
   ]
  },
  {
   "cell_type": "code",
   "execution_count": 37,
   "id": "2c9d024c",
   "metadata": {},
   "outputs": [
    {
     "name": "stdout",
     "output_type": "stream",
     "text": [
      "Accuracy: 0.0\n"
     ]
    }
   ],
   "source": [
    "accuracy = accuracy_score(y_test, predictions)\n",
    "\n",
    "print('Accuracy: ' + str(accuracy))"
   ]
  },
  {
   "cell_type": "markdown",
   "id": "4efe12c3",
   "metadata": {},
   "source": [
    "He probar normalitzar les dades pero el accuracy segueix donant un 0% per lo que podria afirmar que no es un model apropiat per aplicar-ho en aquest exercici"
   ]
  },
  {
   "cell_type": "code",
   "execution_count": 43,
   "id": "eb2d790b",
   "metadata": {},
   "outputs": [],
   "source": [
    "# Create an instance of the StandardScaler\n",
    "scaler = StandardScaler()\n",
    "\n",
    "# Fit the scaler to the training data\n",
    "scaler.fit(X_train)\n",
    "\n",
    "# Transform the training data\n",
    "X_train = scaler.transform(X_train) "
   ]
  },
  {
   "cell_type": "code",
   "execution_count": 45,
   "id": "cffe6ca6",
   "metadata": {},
   "outputs": [
    {
     "name": "stdout",
     "output_type": "stream",
     "text": [
      "Accuracy: 0.0\n"
     ]
    }
   ],
   "source": [
    "knn.fit(X_train, y_train) \n",
    "predictions = knn.predict(X_test)\n",
    "accuracy = accuracy_score(y_test, predictions)\n",
    "\n",
    "print('Accuracy: ' + str(accuracy))"
   ]
  },
  {
   "cell_type": "code",
   "execution_count": null,
   "id": "92183c09",
   "metadata": {},
   "outputs": [],
   "source": []
  }
 ],
 "metadata": {
  "kernelspec": {
   "display_name": "Python 3 (ipykernel)",
   "language": "python",
   "name": "python3"
  },
  "language_info": {
   "codemirror_mode": {
    "name": "ipython",
    "version": 3
   },
   "file_extension": ".py",
   "mimetype": "text/x-python",
   "name": "python",
   "nbconvert_exporter": "python",
   "pygments_lexer": "ipython3",
   "version": "3.9.13"
  }
 },
 "nbformat": 4,
 "nbformat_minor": 5
}
