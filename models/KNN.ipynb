{
 "cells": [
  {
   "cell_type": "markdown",
   "id": "9da5ec0f",
   "metadata": {},
   "source": [
    "# 2. Aplicar models"
   ]
  },
  {
   "cell_type": "markdown",
   "id": "21f8a902",
   "metadata": {},
   "source": [
    "### KNN "
   ]
  },
  {
   "cell_type": "code",
   "execution_count": 25,
   "id": "e6691a4d",
   "metadata": {},
   "outputs": [],
   "source": [
    "import sys\n",
    "sys.path.insert(0,'C:\\\\Users\\\\moasi\\\\Downloads\\\\kaggle')\n",
    "from sklearn.neighbors import KNeighborsClassifier\n",
    "from src import funcionshow\n",
    "from src import librerias\n",
    "import warnings\n",
    "warnings.filterwarnings('ignore')\n",
    "import matplotlib.pyplot as plt\n",
    "import numpy as np\n",
    "import time\n",
    "import seaborn as sns\n",
    "import cv2\n",
    "import tensorflow as tf\n",
    "from tensorflow import keras\n",
    "from sklearn.metrics import ConfusionMatrixDisplay,confusion_matrix\n",
    "from keras.preprocessing.image import ImageDataGenerator\n",
    "from keras.datasets import cifar10\n",
    "from keras.models import Sequential\n",
    "from keras.layers import Dense, Flatten, Conv2D, MaxPooling2D,MaxPool2D, Dropout\n",
    "from keras.losses import sparse_categorical_crossentropy\n",
    "from keras.optimizers import Adam\n",
    "from sklearn.model_selection import KFold\n",
    "from keras.utils import to_categorical"
   ]
  },
  {
   "cell_type": "markdown",
   "id": "6beb4aab",
   "metadata": {},
   "source": [
    "A diferencia del altres dos models no ens fa falta definir un model sequencial per tal de aplicar-ho"
   ]
  },
  {
   "cell_type": "code",
   "execution_count": 3,
   "id": "dbf66b69",
   "metadata": {},
   "outputs": [],
   "source": [
    "#Creating Batch size and Image shape\n",
    "BATCH_SIZE=32\n",
    "IMG_SHAPE=(224,224)\n",
    "## Data Augmentation\n",
    "train_datagen=ImageDataGenerator(rescale=1./255)\n",
    "test_datagen = ImageDataGenerator(rescale=1./255) "
   ]
  },
  {
   "cell_type": "code",
   "execution_count": 4,
   "id": "6d763138",
   "metadata": {},
   "outputs": [
    {
     "name": "stdout",
     "output_type": "stream",
     "text": [
      "Found 2698 images belonging to 6 classes.\n",
      "Found 10901 images belonging to 6 classes.\n"
     ]
    }
   ],
   "source": [
    "#Defining Train, Test and Validation data\n",
    "train_dataset = train_datagen.flow_from_directory(batch_size=32,directory='../data/dataset/test',shuffle=True,classes=labels,target_size=IMG_SHAPE,class_mode='categorical')\n",
    "\n",
    "test_data = test_datagen.flow_from_directory('../data/dataset/train', batch_size=32, target_size=IMG_SHAPE, shuffle = False, classes=labels, class_mode='categorical')"
   ]
  },
  {
   "cell_type": "markdown",
   "id": "385ae510",
   "metadata": {},
   "source": [
    "Es crea una instancia de KNN"
   ]
  },
  {
   "cell_type": "code",
   "execution_count": 7,
   "id": "3acfea19",
   "metadata": {},
   "outputs": [],
   "source": [
    "knn = KNeighborsClassifier(n_neighbors=5)"
   ]
  },
  {
   "cell_type": "markdown",
   "id": "6d82a3fd",
   "metadata": {},
   "source": [
    "fem un reshape a les nostres dades per tal de poder aplicar KNN ya que la funcio espera un input 2D y li estaba passant un dataset 4D, flow_from_directory() ens retorna una tupla (x,y) per lo que hem d'accedir a cadascuna de les parts per separat per poder fer reshape"
   ]
  },
  {
   "cell_type": "code",
   "execution_count": 15,
   "id": "db123573",
   "metadata": {},
   "outputs": [],
   "source": [
    "X_train = train_dataset[0][0]\n",
    "X_train = X_train.reshape(X_train.shape[0], -1)\n",
    "y_train = train_dataset[0][1]\n",
    "\n",
    "X_test = test_data[0][0]\n",
    "X_test = X_test.reshape(X_test.shape[0], -1)\n",
    "y_test = test_data[0][1]"
   ]
  },
  {
   "cell_type": "markdown",
   "id": "cde5da56",
   "metadata": {},
   "source": [
    "Ara que hem fet un reshape de les noestres dades fem l'implementacio la funció .fit() de KNN al dataset de train "
   ]
  },
  {
   "cell_type": "code",
   "execution_count": 17,
   "id": "5a1f24dc",
   "metadata": {},
   "outputs": [
    {
     "data": {
      "text/plain": [
       "KNeighborsClassifier()"
      ]
     },
     "execution_count": 17,
     "metadata": {},
     "output_type": "execute_result"
    }
   ],
   "source": [
    "knn.fit(X_train, y_train) #necesitem un reshape de les nostres dades per tal de poder aplicar-ho"
   ]
  },
  {
   "cell_type": "code",
   "execution_count": 26,
   "id": "c56aab3e",
   "metadata": {},
   "outputs": [],
   "source": [
    "predictions = knn.predict(X_test)"
   ]
  },
  {
   "cell_type": "code",
   "execution_count": 27,
   "id": "8448e39e",
   "metadata": {},
   "outputs": [
    {
     "ename": "SyntaxError",
     "evalue": "invalid syntax (551629624.py, line 1)",
     "output_type": "error",
     "traceback": [
      "\u001b[1;36m  File \u001b[1;32m\"C:\\Users\\moasi\\AppData\\Local\\Temp\\ipykernel_5176\\551629624.py\"\u001b[1;36m, line \u001b[1;32m1\u001b[0m\n\u001b[1;33m    Un cop fet aixo hem de calcular el accuracy que ens ha donat i la corresponden matriu de confusio\u001b[0m\n\u001b[1;37m       ^\u001b[0m\n\u001b[1;31mSyntaxError\u001b[0m\u001b[1;31m:\u001b[0m invalid syntax\n"
     ]
    }
   ],
   "source": [
    "Un cop fet aixo hem de calcular el accuracy que ens ha donat i la corresponden matriu de confusio"
   ]
  },
  {
   "cell_type": "code",
   "execution_count": null,
   "id": "eb04c19d",
   "metadata": {},
   "outputs": [],
   "source": []
  }
 ],
 "metadata": {
  "kernelspec": {
   "display_name": "Python 3 (ipykernel)",
   "language": "python",
   "name": "python3"
  },
  "language_info": {
   "codemirror_mode": {
    "name": "ipython",
    "version": 3
   },
   "file_extension": ".py",
   "mimetype": "text/x-python",
   "name": "python",
   "nbconvert_exporter": "python",
   "pygments_lexer": "ipython3",
   "version": "3.9.13"
  }
 },
 "nbformat": 4,
 "nbformat_minor": 5
}
