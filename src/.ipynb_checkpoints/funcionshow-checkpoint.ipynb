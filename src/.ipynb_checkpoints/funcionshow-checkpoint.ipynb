{
 "cells": [
  {
   "cell_type": "markdown",
   "id": "32c279be",
   "metadata": {},
   "source": [
    "funcio per poguer imprimir un numero determinat de imatges"
   ]
  },
  {
   "cell_type": "code",
   "execution_count": 1,
   "id": "5df9ca9a",
   "metadata": {},
   "outputs": [],
   "source": [
    "def imprimirimg(train_dataset,labels, nr, nc):\n",
    "    fig, ax = plt.subplots(nrows=nr, ncols=nc, figsize=(15, 12))\n",
    "    idx = 0\n",
    "    for i in range(4):\n",
    "        for j in range(4):\n",
    "            label = labels[np.argmax(train_dataset[0][1][idx])]\n",
    "            ax[i, j].set_title(f\"{label}\")\n",
    "            ax[i, j].imshow(train_dataset[0][0][idx][:, :, :])\n",
    "            ax[i, j].axis(\"off\")\n",
    "            idx += 1\n",
    "\n",
    "    # plt.tight_layout()\n",
    "    plt.suptitle(\"Sample Training Images\", fontsize=21)\n",
    "    plt.show()"
   ]
  }
 ],
 "metadata": {
  "kernelspec": {
   "display_name": "Python 3 (ipykernel)",
   "language": "python",
   "name": "python3"
  },
  "language_info": {
   "codemirror_mode": {
    "name": "ipython",
    "version": 3
   },
   "file_extension": ".py",
   "mimetype": "text/x-python",
   "name": "python",
   "nbconvert_exporter": "python",
   "pygments_lexer": "ipython3",
   "version": "3.9.13"
  }
 },
 "nbformat": 4,
 "nbformat_minor": 5
}
