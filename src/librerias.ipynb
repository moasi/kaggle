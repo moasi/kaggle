{
 "cells": [
  {
   "cell_type": "markdown",
   "id": "9abb2ef1",
   "metadata": {},
   "source": [
    "llibreries i variables globals necesaries per la execució del codi"
   ]
  },
  {
   "cell_type": "code",
   "execution_count": 5,
   "id": "ca914322",
   "metadata": {},
   "outputs": [],
   "source": [
    "#llibreries a utilitzar\n",
    "import pandas as pd\n",
    "import numpy as np\n",
    "import os\n",
    "import matplotlib.pyplot as plt\n",
    "from sklearn.linear_model import LogisticRegression\n",
    "from sklearn import svm\n",
    "from sklearn.metrics import ConfusionMatrixDisplay\n",
    "from sklearn import svm\n",
    "from sklearn.metrics import accuracy_score, recall_score\n",
    "import time\n",
    "import seaborn as sns\n",
    "import cv2\n",
    "import tensorflow as tf\n",
    "from tensorflow import keras\n",
    "from keras.preprocessing.image import ImageDataGenerator\n",
    "from keras.datasets import cifar10\n",
    "from keras.models import Sequential\n",
    "from keras.layers import Dense, Flatten, Conv2D, MaxPooling2D\n",
    "from keras.losses import sparse_categorical_crossentropy\n",
    "from keras.optimizers import Adam\n",
    "from sklearn.model_selection import KFold\n",
    "from keras.utils import to_categorical\n",
    "TRAIN_PATH = '../data/dataset/train/'\n",
    "TEST_PATH = '../data/dataset/test/'\n",
    "BATCH_SIZE=64\n",
    "IMG_SHAPE=(240,240)"
   ]
  },
  {
   "cell_type": "code",
   "execution_count": 6,
   "id": "fd2a2dba",
   "metadata": {},
   "outputs": [
    {
     "name": "stdout",
     "output_type": "stream",
     "text": [
      "['freshapples', 'freshbanana', 'freshoranges', 'rottenapples', 'rottenbanana', 'rottenoranges']\n"
     ]
    }
   ],
   "source": [
    "labels = []\n",
    "imnames = []\n",
    "imlabels = []\n",
    "for class_ in os.listdir(TEST_PATH):\n",
    "    labels.append(class_)\n",
    "    for im in os.listdir(TEST_PATH+str(class_)):\n",
    "        imnames.append(TEST_PATH+str(class_)+\"/\"+str(im))\n",
    "        imlabels.append(class_)\n",
    "NUM_LABELS = len(labels)\n",
    "NUM_IMG = len(imlabels)\n",
    "\n",
    "print(labels)"
   ]
  }
 ],
 "metadata": {
  "kernelspec": {
   "display_name": "Python 3 (ipykernel)",
   "language": "python",
   "name": "python3"
  },
  "language_info": {
   "codemirror_mode": {
    "name": "ipython",
    "version": 3
   },
   "file_extension": ".py",
   "mimetype": "text/x-python",
   "name": "python",
   "nbconvert_exporter": "python",
   "pygments_lexer": "ipython3",
   "version": "3.9.13"
  }
 },
 "nbformat": 4,
 "nbformat_minor": 5
}
